{
 "cells": [
  {
   "cell_type": "markdown",
   "metadata": {},
   "source": [
    "# Name(s): Rushitha Reddy Palgutta, Pratheeka Thummala,Tony Li\n",
    "# GROUP 3 - Classifying Loan approval status using Machine Learning Algorithms\n",
    "# Date: 10/31/2021\n",
    "# Class: Knowledge Discovery in Databases"
   ]
  },
  {
   "cell_type": "markdown",
   "metadata": {
    "_cell_guid": "d1b8cca6-fb6f-4e76-80ea-150d72d7c691",
    "_uuid": "a609ec470eb062e9623a5b9ead489651975d35cc"
   },
   "source": [
    "# LOAN PREDICTION APPLICATION"
   ]
  },
  {
   "cell_type": "markdown",
   "metadata": {},
   "source": [
    "Import all the required libraries\n",
    "\n",
    "Seaborn is used for data visualization\n",
    "\n",
    "Pandas is used for data manipulation"
   ]
  },
  {
   "cell_type": "code",
   "execution_count": 22,
   "metadata": {
    "_cell_guid": "399c03b9-dcfc-465f-a082-f2de9a49cfa4",
    "_uuid": "d437e8b72961da9fe44e175a7f08ad01a3c4dc1e"
   },
   "outputs": [],
   "source": [
    "import pandas as pd\n",
    "import numpy as np\n",
    "import matplotlib.pyplot as plt\n",
    "import os\n",
    "import warnings\n",
    "%matplotlib inline\n",
    "import seaborn as sns\n",
    "warnings.filterwarnings('ignore')"
   ]
  },
  {
   "cell_type": "markdown",
   "metadata": {},
   "source": [
    "Import the dataset(.csv file) and creating dataframe\n",
    "\n",
    "Two csv files are used train.csv and test.csv. So we create 2dataframes training dataset and testing dataset"
   ]
  },
  {
   "cell_type": "code",
   "execution_count": 23,
   "metadata": {},
   "outputs": [
    {
     "name": "stdout",
     "output_type": "stream",
     "text": [
      "    Loan_ID Gender Married Dependents     Education Self_Employed  \\\n",
      "0  LP001002   Male      No          0      Graduate            No   \n",
      "1  LP001003   Male     Yes          1      Graduate            No   \n",
      "2  LP001005   Male     Yes          0      Graduate           Yes   \n",
      "3  LP001006   Male     Yes          0  Not Graduate            No   \n",
      "4  LP001008   Male      No          0      Graduate            No   \n",
      "\n",
      "   ApplicantIncome  CoapplicantIncome  LoanAmount  Loan_Amount_Term  \\\n",
      "0             5849                0.0         NaN             360.0   \n",
      "1             4583             1508.0       128.0             360.0   \n",
      "2             3000                0.0        66.0             360.0   \n",
      "3             2583             2358.0       120.0             360.0   \n",
      "4             6000                0.0       141.0             360.0   \n",
      "\n",
      "   Credit_History Property_Area Loan_Status  \n",
      "0             1.0         Urban           Y  \n",
      "1             1.0         Rural           N  \n",
      "2             1.0         Urban           Y  \n",
      "3             1.0         Urban           Y  \n",
      "4             1.0         Urban           Y  \n"
     ]
    }
   ],
   "source": [
    "trainingDataset = pd.read_csv(\"train.csv\")\n",
    "testingDataset = pd.read_csv(\"test.csv\")\n",
    "print (trainingDataset.head())\n"
   ]
  },
  {
   "cell_type": "markdown",
   "metadata": {},
   "source": [
    "Printing number of records and columns are present in both training and testing data\n",
    "\n",
    "Training data contains 614 records and 13 columns\n",
    "\n",
    "Testing data contains 367 records and 12 columns "
   ]
  },
  {
   "cell_type": "code",
   "execution_count": 24,
   "metadata": {
    "_cell_guid": "7c392e63-d59f-42f4-8f8d-a5e07e572ac3",
    "_uuid": "7e254de41ecb8eba0ec420d09f5aa0e5ba71d4fd",
    "scrolled": true
   },
   "outputs": [
    {
     "name": "stdout",
     "output_type": "stream",
     "text": [
      "TRAINING DATA DETAILS\n",
      "Total  number of records present in the dataset - 614\n",
      "Total  number of columns present in the dataset - 13\n",
      "\n",
      " TESTING DATA DETAILS\n",
      "Total  number of records present in the dataset - 367\n",
      "Total  number of columns present in the dataset - 12\n"
     ]
    }
   ],
   "source": [
    "print (\"TRAINING DATA DETAILS\")\n",
    "print (\"Total  number of records present in the dataset -\", trainingDataset.shape[0])\n",
    "print (\"Total  number of columns present in the dataset -\", trainingDataset.shape[1])\n",
    "\n",
    "print (\"\\n TESTING DATA DETAILS\")\n",
    "print (\"Total  number of records present in the dataset -\", testingDataset.shape[0])\n",
    "print (\"Total  number of columns present in the dataset -\", testingDataset.shape[1])"
   ]
  },
  {
   "cell_type": "markdown",
   "metadata": {},
   "source": [
    "Merging both training and testing data into by using concat function of pandas library and storing it in a variable called combined.\n",
    "\n",
    "After combining the datasets we can see that combined dataset contains 981(614+367) records and 13 columns.\n",
    "\n",
    "Displaying the combine colums using (.columns). "
   ]
  },
  {
   "cell_type": "code",
   "execution_count": 25,
   "metadata": {},
   "outputs": [
    {
     "name": "stdout",
     "output_type": "stream",
     "text": [
      "(981, 13)\n",
      "Index(['Loan_ID', 'Gender', 'Married', 'Dependents', 'Education',\n",
      "       'Self_Employed', 'ApplicantIncome', 'CoapplicantIncome', 'LoanAmount',\n",
      "       'Loan_Amount_Term', 'Credit_History', 'Property_Area', 'Loan_Status'],\n",
      "      dtype='object')\n"
     ]
    }
   ],
   "source": [
    "combined = pd.concat([trainingDataset, testingDataset],ignore_index=True, sort=False)\n",
    "print (combined.shape)\n",
    "print (combined.columns)\n",
    "y = trainingDataset['Loan_Status']"
   ]
  },
  {
   "cell_type": "markdown",
   "metadata": {},
   "source": [
    "Printing datatype of each column using (dataframe.dtypes)"
   ]
  },
  {
   "cell_type": "code",
   "execution_count": 26,
   "metadata": {
    "_uuid": "4819175d89b03820b9db5256891ac4dfbd3fb186"
   },
   "outputs": [
    {
     "name": "stdout",
     "output_type": "stream",
     "text": [
      "Following are the columns present in the dataset -  Index(['Loan_ID', 'Gender', 'Married', 'Dependents', 'Education',\n",
      "       'Self_Employed', 'ApplicantIncome', 'CoapplicantIncome', 'LoanAmount',\n",
      "       'Loan_Amount_Term', 'Credit_History', 'Property_Area', 'Loan_Status'],\n",
      "      dtype='object')\n",
      "Loan_ID               object\n",
      "Gender                object\n",
      "Married               object\n",
      "Dependents            object\n",
      "Education             object\n",
      "Self_Employed         object\n",
      "ApplicantIncome        int64\n",
      "CoapplicantIncome    float64\n",
      "LoanAmount           float64\n",
      "Loan_Amount_Term     float64\n",
      "Credit_History       float64\n",
      "Property_Area         object\n",
      "Loan_Status           object\n",
      "dtype: object\n"
     ]
    }
   ],
   "source": [
    "print (\"Following are the columns present in the dataset - \", combined.columns)\n",
    "print (combined.dtypes)"
   ]
  },
  {
   "cell_type": "markdown",
   "metadata": {},
   "source": [
    "All columns with categorical data are separated to find various entries in each column\n",
    "\n",
    "Printing different entries in each column using (.values)\n",
    "\n",
    "After extracting different entries we find if there are any missing values in the respective column using (.isnull()) and print the count of missing values"
   ]
  },
  {
   "cell_type": "code",
   "execution_count": 27,
   "metadata": {
    "_cell_guid": "89e6169e-aec4-4fd0-8126-50f1dc683011",
    "_uuid": "b0921b187d2ed9b41e6825789d7500be0668d8ce",
    "scrolled": false
   },
   "outputs": [
    {
     "name": "stdout",
     "output_type": "stream",
     "text": [
      "TOTAL NUMBER OF RECORDS IN THE COMBINED DATASET  -  981\n",
      "\n",
      "\n",
      "Number of value counts for - Gender\n",
      "Male      775\n",
      "Female    182\n",
      "Name: Gender, dtype: int64\n",
      "Number of Missing values: 24\n",
      "\n",
      "\n",
      "Number of value counts for - Married\n",
      "Yes    631\n",
      "No     347\n",
      "Name: Married, dtype: int64\n",
      "Number of Missing values: 3\n",
      "\n",
      "\n",
      "Number of value counts for - Dependents\n",
      "0     545\n",
      "2     160\n",
      "1     160\n",
      "3+     91\n",
      "Name: Dependents, dtype: int64\n",
      "Number of Missing values: 25\n",
      "\n",
      "\n",
      "Number of value counts for - Education\n",
      "Graduate        763\n",
      "Not Graduate    218\n",
      "Name: Education, dtype: int64\n",
      "Number of Missing values: 0\n",
      "\n",
      "\n",
      "Number of value counts for - Self_Employed\n",
      "No     807\n",
      "Yes    119\n",
      "Name: Self_Employed, dtype: int64\n",
      "Number of Missing values: 55\n",
      "\n",
      "\n",
      "Number of value counts for - Property_Area\n",
      "Semiurban    349\n",
      "Urban        342\n",
      "Rural        290\n",
      "Name: Property_Area, dtype: int64\n",
      "Number of Missing values: 0\n",
      "\n",
      "\n",
      "Number of value counts for - Loan_Status\n",
      "Y    422\n",
      "N    192\n",
      "Name: Loan_Status, dtype: int64\n",
      "Number of Missing values: 367\n",
      "\n",
      "\n",
      "Number of missing values in  ApplicantIncome : 0\n",
      "Number of missing values in  CoapplicantIncome : 0\n",
      "Number of missing values in  LoanAmount : 27\n",
      "Number of missing values in  Loan_Amount_Term : 20\n",
      "Number of missing values in  Credit_History : 79\n"
     ]
    }
   ],
   "source": [
    "print (\"TOTAL NUMBER OF RECORDS IN THE COMBINED DATASET  - \", combined.shape[0])\n",
    "print (\"\\n\")\n",
    "categoricalColNames = combined.iloc[:,1:].select_dtypes(include=['object'])\n",
    "requiredCategoricalVariables = list(categoricalColNames.columns.values)\n",
    "for x in requiredCategoricalVariables:\n",
    "    print (\"Number of value counts for -\", x)\n",
    "    print (combined[x].value_counts())\n",
    "    print ('Number of Missing values: %d'% sum(combined[x].isnull()))\n",
    "    print (\"\\n\")\n",
    "    \n",
    "numericalColNames = combined.iloc[:,1:].select_dtypes(include=['int64','float64'])\n",
    "requiredCategoricalVariables = list(numericalColNames.columns.values)\n",
    "for x in requiredCategoricalVariables:\n",
    "    print ('Number of missing values in ', x ,': %d'% sum(combined[x].isnull()))\n"
   ]
  },
  {
   "cell_type": "markdown",
   "metadata": {},
   "source": [
    "We can even use dataframe.info to find the number of non-null values which also gives number of missing values and the datatypes of each column \n",
    "\n",
    "In the output we see that 7 columns are having missing values."
   ]
  },
  {
   "cell_type": "code",
   "execution_count": 28,
   "metadata": {
    "_cell_guid": "f73b8308-fd0b-404c-b7da-04fce44fd6f2",
    "_uuid": "1af7132169877bfdf5b588154a34f7661b8133e5"
   },
   "outputs": [
    {
     "name": "stdout",
     "output_type": "stream",
     "text": [
      "<class 'pandas.core.frame.DataFrame'>\n",
      "RangeIndex: 981 entries, 0 to 980\n",
      "Data columns (total 13 columns):\n",
      " #   Column             Non-Null Count  Dtype  \n",
      "---  ------             --------------  -----  \n",
      " 0   Loan_ID            981 non-null    object \n",
      " 1   Gender             957 non-null    object \n",
      " 2   Married            978 non-null    object \n",
      " 3   Dependents         956 non-null    object \n",
      " 4   Education          981 non-null    object \n",
      " 5   Self_Employed      926 non-null    object \n",
      " 6   ApplicantIncome    981 non-null    int64  \n",
      " 7   CoapplicantIncome  981 non-null    float64\n",
      " 8   LoanAmount         954 non-null    float64\n",
      " 9   Loan_Amount_Term   961 non-null    float64\n",
      " 10  Credit_History     902 non-null    float64\n",
      " 11  Property_Area      981 non-null    object \n",
      " 12  Loan_Status        614 non-null    object \n",
      "dtypes: float64(4), int64(1), object(8)\n",
      "memory usage: 99.8+ KB\n"
     ]
    }
   ],
   "source": [
    "combined.info()"
   ]
  },
  {
   "cell_type": "markdown",
   "metadata": {},
   "source": [
    "fillna() function is used to fill the missing values . We can fill the missing values using mean, median, mode, standard deviation, variance or any other values.\n",
    "\n",
    "All the 7 columns having missing values are replaced with mean(), mean(), 'NO', 'NA', 'NA', '0', 0 respectively"
   ]
  },
  {
   "cell_type": "code",
   "execution_count": 29,
   "metadata": {
    "_uuid": "27adc49745c33b402e62214ed4c19fbff885b026"
   },
   "outputs": [],
   "source": [
    "### FILLING THE MISSING VALUES IN THE REQUIRED COLUMNS\n",
    "combined['LoanAmount'].fillna(combined['LoanAmount'].mean(), inplace=True)\n",
    "combined['Loan_Amount_Term'].fillna(combined['Loan_Amount_Term'].mean(), inplace=True)\n",
    "combined['Self_Employed'].fillna('No',inplace=True)\n",
    "combined['Married'].fillna('NA',inplace=True)\n",
    "combined['Gender'].fillna('NA',inplace=True)\n",
    "combined['Dependents'].fillna('0',inplace=True)\n",
    "combined['Credit_History'].fillna(0,inplace=True)"
   ]
  },
  {
   "cell_type": "markdown",
   "metadata": {},
   "source": [
    "After filling the missing values we check if we have any other null values using the same (.isnull()) function. \n",
    "\n",
    "We see that there are no null values "
   ]
  },
  {
   "cell_type": "code",
   "execution_count": 30,
   "metadata": {
    "_uuid": "d31880ecc6cae2ffec897d512f30bf8a69ccc91a",
    "scrolled": true
   },
   "outputs": [
    {
     "name": "stdout",
     "output_type": "stream",
     "text": [
      "Checking if there are any missing values in the dataset - \n",
      "column name  - Loan_ID\n",
      "Final #missing: 0\n",
      "\n",
      "\n",
      "column name  - Gender\n",
      "Final #missing: 0\n",
      "\n",
      "\n",
      "column name  - Married\n",
      "Final #missing: 0\n",
      "\n",
      "\n",
      "column name  - Dependents\n",
      "Final #missing: 0\n",
      "\n",
      "\n",
      "column name  - Education\n",
      "Final #missing: 0\n",
      "\n",
      "\n",
      "column name  - Self_Employed\n",
      "Final #missing: 0\n",
      "\n",
      "\n",
      "column name  - ApplicantIncome\n",
      "Final #missing: 0\n",
      "\n",
      "\n",
      "column name  - CoapplicantIncome\n",
      "Final #missing: 0\n",
      "\n",
      "\n",
      "column name  - LoanAmount\n",
      "Final #missing: 0\n",
      "\n",
      "\n",
      "column name  - Loan_Amount_Term\n",
      "Final #missing: 0\n",
      "\n",
      "\n",
      "column name  - Credit_History\n",
      "Final #missing: 0\n",
      "\n",
      "\n",
      "column name  - Property_Area\n",
      "Final #missing: 0\n",
      "\n",
      "\n",
      "column name  - Loan_Status\n",
      "Final #missing: 367\n",
      "\n",
      "\n"
     ]
    }
   ],
   "source": [
    "requiredColumns = list(combined.columns.values)\n",
    "print (\"Checking if there are any missing values in the dataset - \")\n",
    "for col in requiredColumns:\n",
    "    print (\"column name  -\", col)\n",
    "    print ('Final #missing: %d'% sum(combined[col].isnull()))\n",
    "    print (\"\\n\")"
   ]
  },
  {
   "cell_type": "markdown",
   "metadata": {},
   "source": [
    "Since there are no missing values in the dataset we now proceed with the training dataset to train the data and further apply visualization on data."
   ]
  },
  {
   "cell_type": "markdown",
   "metadata": {},
   "source": [
    "## Training Dataset Information"
   ]
  },
  {
   "cell_type": "code",
   "execution_count": 31,
   "metadata": {
    "scrolled": false
   },
   "outputs": [
    {
     "data": {
      "text/html": [
       "<div>\n",
       "<style scoped>\n",
       "    .dataframe tbody tr th:only-of-type {\n",
       "        vertical-align: middle;\n",
       "    }\n",
       "\n",
       "    .dataframe tbody tr th {\n",
       "        vertical-align: top;\n",
       "    }\n",
       "\n",
       "    .dataframe thead th {\n",
       "        text-align: right;\n",
       "    }\n",
       "</style>\n",
       "<table border=\"1\" class=\"dataframe\">\n",
       "  <thead>\n",
       "    <tr style=\"text-align: right;\">\n",
       "      <th></th>\n",
       "      <th>Loan_ID</th>\n",
       "      <th>Gender</th>\n",
       "      <th>Married</th>\n",
       "      <th>Dependents</th>\n",
       "      <th>Education</th>\n",
       "      <th>Self_Employed</th>\n",
       "      <th>ApplicantIncome</th>\n",
       "      <th>CoapplicantIncome</th>\n",
       "      <th>LoanAmount</th>\n",
       "      <th>Loan_Amount_Term</th>\n",
       "      <th>Credit_History</th>\n",
       "      <th>Property_Area</th>\n",
       "      <th>Loan_Status</th>\n",
       "    </tr>\n",
       "  </thead>\n",
       "  <tbody>\n",
       "    <tr>\n",
       "      <th>0</th>\n",
       "      <td>LP001002</td>\n",
       "      <td>Male</td>\n",
       "      <td>No</td>\n",
       "      <td>0</td>\n",
       "      <td>Graduate</td>\n",
       "      <td>No</td>\n",
       "      <td>5849</td>\n",
       "      <td>0.0</td>\n",
       "      <td>NaN</td>\n",
       "      <td>360.0</td>\n",
       "      <td>1.0</td>\n",
       "      <td>Urban</td>\n",
       "      <td>Y</td>\n",
       "    </tr>\n",
       "    <tr>\n",
       "      <th>1</th>\n",
       "      <td>LP001003</td>\n",
       "      <td>Male</td>\n",
       "      <td>Yes</td>\n",
       "      <td>1</td>\n",
       "      <td>Graduate</td>\n",
       "      <td>No</td>\n",
       "      <td>4583</td>\n",
       "      <td>1508.0</td>\n",
       "      <td>128.0</td>\n",
       "      <td>360.0</td>\n",
       "      <td>1.0</td>\n",
       "      <td>Rural</td>\n",
       "      <td>N</td>\n",
       "    </tr>\n",
       "    <tr>\n",
       "      <th>2</th>\n",
       "      <td>LP001005</td>\n",
       "      <td>Male</td>\n",
       "      <td>Yes</td>\n",
       "      <td>0</td>\n",
       "      <td>Graduate</td>\n",
       "      <td>Yes</td>\n",
       "      <td>3000</td>\n",
       "      <td>0.0</td>\n",
       "      <td>66.0</td>\n",
       "      <td>360.0</td>\n",
       "      <td>1.0</td>\n",
       "      <td>Urban</td>\n",
       "      <td>Y</td>\n",
       "    </tr>\n",
       "    <tr>\n",
       "      <th>3</th>\n",
       "      <td>LP001006</td>\n",
       "      <td>Male</td>\n",
       "      <td>Yes</td>\n",
       "      <td>0</td>\n",
       "      <td>Not Graduate</td>\n",
       "      <td>No</td>\n",
       "      <td>2583</td>\n",
       "      <td>2358.0</td>\n",
       "      <td>120.0</td>\n",
       "      <td>360.0</td>\n",
       "      <td>1.0</td>\n",
       "      <td>Urban</td>\n",
       "      <td>Y</td>\n",
       "    </tr>\n",
       "    <tr>\n",
       "      <th>4</th>\n",
       "      <td>LP001008</td>\n",
       "      <td>Male</td>\n",
       "      <td>No</td>\n",
       "      <td>0</td>\n",
       "      <td>Graduate</td>\n",
       "      <td>No</td>\n",
       "      <td>6000</td>\n",
       "      <td>0.0</td>\n",
       "      <td>141.0</td>\n",
       "      <td>360.0</td>\n",
       "      <td>1.0</td>\n",
       "      <td>Urban</td>\n",
       "      <td>Y</td>\n",
       "    </tr>\n",
       "  </tbody>\n",
       "</table>\n",
       "</div>"
      ],
      "text/plain": [
       "    Loan_ID Gender Married Dependents     Education Self_Employed  \\\n",
       "0  LP001002   Male      No          0      Graduate            No   \n",
       "1  LP001003   Male     Yes          1      Graduate            No   \n",
       "2  LP001005   Male     Yes          0      Graduate           Yes   \n",
       "3  LP001006   Male     Yes          0  Not Graduate            No   \n",
       "4  LP001008   Male      No          0      Graduate            No   \n",
       "\n",
       "   ApplicantIncome  CoapplicantIncome  LoanAmount  Loan_Amount_Term  \\\n",
       "0             5849                0.0         NaN             360.0   \n",
       "1             4583             1508.0       128.0             360.0   \n",
       "2             3000                0.0        66.0             360.0   \n",
       "3             2583             2358.0       120.0             360.0   \n",
       "4             6000                0.0       141.0             360.0   \n",
       "\n",
       "   Credit_History Property_Area Loan_Status  \n",
       "0             1.0         Urban           Y  \n",
       "1             1.0         Rural           N  \n",
       "2             1.0         Urban           Y  \n",
       "3             1.0         Urban           Y  \n",
       "4             1.0         Urban           Y  "
      ]
     },
     "execution_count": 31,
     "metadata": {},
     "output_type": "execute_result"
    }
   ],
   "source": [
    "trainingSet = trainingDataset\n",
    "trainingSet.head()"
   ]
  },
  {
   "cell_type": "markdown",
   "metadata": {},
   "source": [
    ".describe() is used to find the count, mean, minimum, standard deviation, quartiles and maximum of each column.\n",
    "\n",
    "There seems to be some outliers for the Applicant Income, Co applicant income and Loan Amount.\n",
    "\n",
    "We also see that about 84% applicants have a credit history.\n"
   ]
  },
  {
   "cell_type": "code",
   "execution_count": 32,
   "metadata": {
    "scrolled": true
   },
   "outputs": [
    {
     "data": {
      "text/html": [
       "<div>\n",
       "<style scoped>\n",
       "    .dataframe tbody tr th:only-of-type {\n",
       "        vertical-align: middle;\n",
       "    }\n",
       "\n",
       "    .dataframe tbody tr th {\n",
       "        vertical-align: top;\n",
       "    }\n",
       "\n",
       "    .dataframe thead th {\n",
       "        text-align: right;\n",
       "    }\n",
       "</style>\n",
       "<table border=\"1\" class=\"dataframe\">\n",
       "  <thead>\n",
       "    <tr style=\"text-align: right;\">\n",
       "      <th></th>\n",
       "      <th>ApplicantIncome</th>\n",
       "      <th>CoapplicantIncome</th>\n",
       "      <th>LoanAmount</th>\n",
       "      <th>Loan_Amount_Term</th>\n",
       "      <th>Credit_History</th>\n",
       "    </tr>\n",
       "  </thead>\n",
       "  <tbody>\n",
       "    <tr>\n",
       "      <th>count</th>\n",
       "      <td>614.000000</td>\n",
       "      <td>614.000000</td>\n",
       "      <td>592.000000</td>\n",
       "      <td>600.00000</td>\n",
       "      <td>564.000000</td>\n",
       "    </tr>\n",
       "    <tr>\n",
       "      <th>mean</th>\n",
       "      <td>5403.459283</td>\n",
       "      <td>1621.245798</td>\n",
       "      <td>146.412162</td>\n",
       "      <td>342.00000</td>\n",
       "      <td>0.842199</td>\n",
       "    </tr>\n",
       "    <tr>\n",
       "      <th>std</th>\n",
       "      <td>6109.041673</td>\n",
       "      <td>2926.248369</td>\n",
       "      <td>85.587325</td>\n",
       "      <td>65.12041</td>\n",
       "      <td>0.364878</td>\n",
       "    </tr>\n",
       "    <tr>\n",
       "      <th>min</th>\n",
       "      <td>150.000000</td>\n",
       "      <td>0.000000</td>\n",
       "      <td>9.000000</td>\n",
       "      <td>12.00000</td>\n",
       "      <td>0.000000</td>\n",
       "    </tr>\n",
       "    <tr>\n",
       "      <th>25%</th>\n",
       "      <td>2877.500000</td>\n",
       "      <td>0.000000</td>\n",
       "      <td>100.000000</td>\n",
       "      <td>360.00000</td>\n",
       "      <td>1.000000</td>\n",
       "    </tr>\n",
       "    <tr>\n",
       "      <th>50%</th>\n",
       "      <td>3812.500000</td>\n",
       "      <td>1188.500000</td>\n",
       "      <td>128.000000</td>\n",
       "      <td>360.00000</td>\n",
       "      <td>1.000000</td>\n",
       "    </tr>\n",
       "    <tr>\n",
       "      <th>75%</th>\n",
       "      <td>5795.000000</td>\n",
       "      <td>2297.250000</td>\n",
       "      <td>168.000000</td>\n",
       "      <td>360.00000</td>\n",
       "      <td>1.000000</td>\n",
       "    </tr>\n",
       "    <tr>\n",
       "      <th>max</th>\n",
       "      <td>81000.000000</td>\n",
       "      <td>41667.000000</td>\n",
       "      <td>700.000000</td>\n",
       "      <td>480.00000</td>\n",
       "      <td>1.000000</td>\n",
       "    </tr>\n",
       "  </tbody>\n",
       "</table>\n",
       "</div>"
      ],
      "text/plain": [
       "       ApplicantIncome  CoapplicantIncome  LoanAmount  Loan_Amount_Term  \\\n",
       "count       614.000000         614.000000  592.000000         600.00000   \n",
       "mean       5403.459283        1621.245798  146.412162         342.00000   \n",
       "std        6109.041673        2926.248369   85.587325          65.12041   \n",
       "min         150.000000           0.000000    9.000000          12.00000   \n",
       "25%        2877.500000           0.000000  100.000000         360.00000   \n",
       "50%        3812.500000        1188.500000  128.000000         360.00000   \n",
       "75%        5795.000000        2297.250000  168.000000         360.00000   \n",
       "max       81000.000000       41667.000000  700.000000         480.00000   \n",
       "\n",
       "       Credit_History  \n",
       "count      564.000000  \n",
       "mean         0.842199  \n",
       "std          0.364878  \n",
       "min          0.000000  \n",
       "25%          1.000000  \n",
       "50%          1.000000  \n",
       "75%          1.000000  \n",
       "max          1.000000  "
      ]
     },
     "execution_count": 32,
     "metadata": {},
     "output_type": "execute_result"
    }
   ],
   "source": [
    "trainingSet.describe()"
   ]
  },
  {
   "cell_type": "markdown",
   "metadata": {},
   "source": [
    "Because the Credit History field has a mean of 0.84 and the entries are either a positive or negative value (1 for having a credit history or 0 for not)  the distribution of the numerical variables, particularly the applicants income and the loan amount, would be fascinating to investigate. \n",
    "\n",
    "We will use seaborn for visualization in order to accomplish this."
   ]
  },
  {
   "cell_type": "markdown",
   "metadata": {},
   "source": [
    "### Distribution Analysis"
   ]
  },
  {
   "cell_type": "markdown",
   "metadata": {},
   "source": [
    "We plot a histogram for applicants income and pass the number of bins.\n",
    "\n",
    "We find that there are some outliers "
   ]
  },
  {
   "cell_type": "code",
   "execution_count": 33,
   "metadata": {
    "scrolled": true
   },
   "outputs": [
    {
     "data": {
      "text/plain": [
       "<AxesSubplot:>"
      ]
     },
     "execution_count": 33,
     "metadata": {},
     "output_type": "execute_result"
    },
    {
     "data": {
      "image/png": "[encoded data removed]",
      "text/plain": [
       "<Figure size 432x288 with 1 Axes>"
      ]
     },
     "metadata": {
      "needs_background": "light"
     },
     "output_type": "display_data"
    }
   ],
   "source": [
    "trainingSet['ApplicantIncome'].hist(bins=70,grid=False)"
   ]
  },
  {
   "cell_type": "code",
   "execution_count": 34,
   "metadata": {},
   "outputs": [
    {
     "data": {
      "text/plain": [
       "<AxesSubplot:title={'center':'ApplicantIncome'}, xlabel='Education'>"
      ]
     },
     "execution_count": 34,
     "metadata": {},
     "output_type": "execute_result"
    },
    {
     "data": {
      "image/png": "[encoded data removed]",
      "text/plain": [
       "<Figure size 432x288 with 1 Axes>"
      ]
     },
     "metadata": {
      "needs_background": "light"
     },
     "output_type": "display_data"
    }
   ],
   "source": [
    "trainingSet.boxplot(column = 'ApplicantIncome', grid =False, by = 'Education')"
   ]
  },
  {
   "cell_type": "markdown",
   "metadata": {},
   "source": [
    "We cannot plot Loan Amount directly since it has missing values. \n",
    "\n",
    "One method is to use the dropna function to remove the missing values rows before plotting.\n",
    "\n",
    "Other alternative is to fill the missing value using .fillna()"
   ]
  },
  {
   "cell_type": "code",
   "execution_count": 35,
   "metadata": {},
   "outputs": [
    {
     "data": {
      "text/plain": [
       "<AxesSubplot:>"
      ]
     },
     "execution_count": 35,
     "metadata": {},
     "output_type": "execute_result"
    },
    {
     "data": {
      "image/png": "[encoded data removed]",
      "text/plain": [
       "<Figure size 432x288 with 1 Axes>"
      ]
     },
     "metadata": {
      "needs_background": "light"
     },
     "output_type": "display_data"
    }
   ],
   "source": [
    "trainingSet['LoanAmount'].hist(bins=100,grid = False)"
   ]
  },
  {
   "cell_type": "markdown",
   "metadata": {},
   "source": [
    "### Categorical Value Analysis"
   ]
  },
  {
   "cell_type": "markdown",
   "metadata": {},
   "source": [
    "We plot a bar graph for credit history and see that there are more people with credit history around 500."
   ]
  },
  {
   "cell_type": "code",
   "execution_count": 36,
   "metadata": {},
   "outputs": [
    {
     "data": {
      "text/plain": [
       "<AxesSubplot:>"
      ]
     },
     "execution_count": 36,
     "metadata": {},
     "output_type": "execute_result"
    },
    {
     "data": {
      "image/png": "[encoded data removed]",
      "text/plain": [
       "<Figure size 432x288 with 1 Axes>"
      ]
     },
     "metadata": {
      "needs_background": "light"
     },
     "output_type": "display_data"
    }
   ],
   "source": [
    "temp = trainingSet['Credit_History'].value_counts(ascending = True)\n",
    "temp.plot(kind = 'bar')"
   ]
  },
  {
   "cell_type": "markdown",
   "metadata": {},
   "source": [
    "We check if there are any missing values in the data and we can see there are missing values in the training dataset."
   ]
  },
  {
   "cell_type": "code",
   "execution_count": 37,
   "metadata": {},
   "outputs": [
    {
     "data": {
      "text/plain": [
       "Loan_ID               0\n",
       "Gender               13\n",
       "Married               3\n",
       "Dependents           15\n",
       "Education             0\n",
       "Self_Employed        32\n",
       "ApplicantIncome       0\n",
       "CoapplicantIncome     0\n",
       "LoanAmount           22\n",
       "Loan_Amount_Term     14\n",
       "Credit_History       50\n",
       "Property_Area         0\n",
       "Loan_Status           0\n",
       "dtype: int64"
      ]
     },
     "execution_count": 37,
     "metadata": {},
     "output_type": "execute_result"
    }
   ],
   "source": [
    " trainingSet.apply(lambda x: sum(x.isnull()),axis=0)"
   ]
  },
  {
   "cell_type": "markdown",
   "metadata": {},
   "source": [
    "### DATA PREPROCESSING\n",
    "Filling the missing values with mean() or mode() or 'No'"
   ]
  },
  {
   "cell_type": "code",
   "execution_count": 38,
   "metadata": {
    "scrolled": true
   },
   "outputs": [
    {
     "data": {
      "text/html": [
       "<div>\n",
       "<style scoped>\n",
       "    .dataframe tbody tr th:only-of-type {\n",
       "        vertical-align: middle;\n",
       "    }\n",
       "\n",
       "    .dataframe tbody tr th {\n",
       "        vertical-align: top;\n",
       "    }\n",
       "\n",
       "    .dataframe thead th {\n",
       "        text-align: right;\n",
       "    }\n",
       "</style>\n",
       "<table border=\"1\" class=\"dataframe\">\n",
       "  <thead>\n",
       "    <tr style=\"text-align: right;\">\n",
       "      <th></th>\n",
       "      <th>Loan_ID</th>\n",
       "      <th>Gender</th>\n",
       "      <th>Married</th>\n",
       "      <th>Dependents</th>\n",
       "      <th>Education</th>\n",
       "      <th>Self_Employed</th>\n",
       "      <th>ApplicantIncome</th>\n",
       "      <th>CoapplicantIncome</th>\n",
       "      <th>LoanAmount</th>\n",
       "      <th>Loan_Amount_Term</th>\n",
       "      <th>Credit_History</th>\n",
       "      <th>Property_Area</th>\n",
       "      <th>Loan_Status</th>\n",
       "    </tr>\n",
       "  </thead>\n",
       "  <tbody>\n",
       "    <tr>\n",
       "      <th>0</th>\n",
       "      <td>LP001002</td>\n",
       "      <td>Male</td>\n",
       "      <td>No</td>\n",
       "      <td>0</td>\n",
       "      <td>Graduate</td>\n",
       "      <td>No</td>\n",
       "      <td>5849</td>\n",
       "      <td>0.0</td>\n",
       "      <td>146.412162</td>\n",
       "      <td>360.0</td>\n",
       "      <td>1.0</td>\n",
       "      <td>Urban</td>\n",
       "      <td>Y</td>\n",
       "    </tr>\n",
       "    <tr>\n",
       "      <th>1</th>\n",
       "      <td>LP001003</td>\n",
       "      <td>Male</td>\n",
       "      <td>Yes</td>\n",
       "      <td>1</td>\n",
       "      <td>Graduate</td>\n",
       "      <td>No</td>\n",
       "      <td>4583</td>\n",
       "      <td>1508.0</td>\n",
       "      <td>128.000000</td>\n",
       "      <td>360.0</td>\n",
       "      <td>1.0</td>\n",
       "      <td>Rural</td>\n",
       "      <td>N</td>\n",
       "    </tr>\n",
       "    <tr>\n",
       "      <th>2</th>\n",
       "      <td>LP001005</td>\n",
       "      <td>Male</td>\n",
       "      <td>Yes</td>\n",
       "      <td>0</td>\n",
       "      <td>Graduate</td>\n",
       "      <td>Yes</td>\n",
       "      <td>3000</td>\n",
       "      <td>0.0</td>\n",
       "      <td>66.000000</td>\n",
       "      <td>360.0</td>\n",
       "      <td>1.0</td>\n",
       "      <td>Urban</td>\n",
       "      <td>Y</td>\n",
       "    </tr>\n",
       "    <tr>\n",
       "      <th>3</th>\n",
       "      <td>LP001006</td>\n",
       "      <td>Male</td>\n",
       "      <td>Yes</td>\n",
       "      <td>0</td>\n",
       "      <td>Not Graduate</td>\n",
       "      <td>No</td>\n",
       "      <td>2583</td>\n",
       "      <td>2358.0</td>\n",
       "      <td>120.000000</td>\n",
       "      <td>360.0</td>\n",
       "      <td>1.0</td>\n",
       "      <td>Urban</td>\n",
       "      <td>Y</td>\n",
       "    </tr>\n",
       "    <tr>\n",
       "      <th>4</th>\n",
       "      <td>LP001008</td>\n",
       "      <td>Male</td>\n",
       "      <td>No</td>\n",
       "      <td>0</td>\n",
       "      <td>Graduate</td>\n",
       "      <td>No</td>\n",
       "      <td>6000</td>\n",
       "      <td>0.0</td>\n",
       "      <td>141.000000</td>\n",
       "      <td>360.0</td>\n",
       "      <td>1.0</td>\n",
       "      <td>Urban</td>\n",
       "      <td>Y</td>\n",
       "    </tr>\n",
       "  </tbody>\n",
       "</table>\n",
       "</div>"
      ],
      "text/plain": [
       "    Loan_ID Gender Married Dependents     Education Self_Employed  \\\n",
       "0  LP001002   Male      No          0      Graduate            No   \n",
       "1  LP001003   Male     Yes          1      Graduate            No   \n",
       "2  LP001005   Male     Yes          0      Graduate           Yes   \n",
       "3  LP001006   Male     Yes          0  Not Graduate            No   \n",
       "4  LP001008   Male      No          0      Graduate            No   \n",
       "\n",
       "   ApplicantIncome  CoapplicantIncome  LoanAmount  Loan_Amount_Term  \\\n",
       "0             5849                0.0  146.412162             360.0   \n",
       "1             4583             1508.0  128.000000             360.0   \n",
       "2             3000                0.0   66.000000             360.0   \n",
       "3             2583             2358.0  120.000000             360.0   \n",
       "4             6000                0.0  141.000000             360.0   \n",
       "\n",
       "   Credit_History Property_Area Loan_Status  \n",
       "0             1.0         Urban           Y  \n",
       "1             1.0         Rural           N  \n",
       "2             1.0         Urban           Y  \n",
       "3             1.0         Urban           Y  \n",
       "4             1.0         Urban           Y  "
      ]
     },
     "execution_count": 38,
     "metadata": {},
     "output_type": "execute_result"
    }
   ],
   "source": [
    "trainingSet['LoanAmount'].fillna(trainingSet['LoanAmount'].mean(),inplace=True)\n",
    "trainingSet['Self_Employed'].fillna('No',inplace=True)\n",
    "trainingSet['Gender'].fillna(trainingSet['Gender'].mode()[0], inplace=True)\n",
    "trainingSet['Married'].fillna(trainingSet['Married'].mode()[0], inplace=True)\n",
    "trainingSet['Dependents'].fillna(trainingSet['Dependents'].mode()[0], inplace=True)\n",
    "trainingSet['Loan_Amount_Term'].fillna(trainingSet['Loan_Amount_Term'].mode()[0], inplace=True)\n",
    "trainingSet['Credit_History'].fillna(trainingSet['Credit_History'].mode()[0], inplace=True)\n",
    "trainingSet.head()"
   ]
  },
  {
   "cell_type": "markdown",
   "metadata": {},
   "source": [
    "After filling the missing values with respective values or functions we check if there are any other missing values in the dataset."
   ]
  },
  {
   "cell_type": "code",
   "execution_count": 39,
   "metadata": {},
   "outputs": [
    {
     "data": {
      "text/plain": [
       "Loan_ID              0\n",
       "Gender               0\n",
       "Married              0\n",
       "Dependents           0\n",
       "Education            0\n",
       "Self_Employed        0\n",
       "ApplicantIncome      0\n",
       "CoapplicantIncome    0\n",
       "LoanAmount           0\n",
       "Loan_Amount_Term     0\n",
       "Credit_History       0\n",
       "Property_Area        0\n",
       "Loan_Status          0\n",
       "dtype: int64"
      ]
     },
     "execution_count": 39,
     "metadata": {},
     "output_type": "execute_result"
    }
   ],
   "source": [
    "trainingSet.apply(lambda x: sum(x.isnull()),axis=0)"
   ]
  },
  {
   "cell_type": "markdown",
   "metadata": {},
   "source": [
    "Plotting a heat map helps us find how are columns related to each other.\n",
    "\n",
    "From the below heatmap we see that LoanAmount and ApplicantIncome are more correlated(i.e., more than 50%) which tells us that LoanAmount is mostly dependent on applicants income. \n",
    "\n",
    "If ApplicantIncome is more then the applicant is eligible for more LoanAmount.\n",
    "\n",
    "Other than ApplicantIncome, LoanAmount is more dependent on CoapplicantIncome (i.e., almost 20%).\n",
    "\n",
    "\n",
    "Whereas CoaaplicantIncome and Credit_History are least related to each other.\n",
    "\n",
    "ApplicantIncome is the significant factor in our data."
   ]
  },
  {
   "cell_type": "code",
   "execution_count": 43,
   "metadata": {
    "_cell_guid": "55838679-c07b-4519-9731-f1b174d67e99",
    "_uuid": "963a0756a4c424248df636c99003045c1d193325"
   },
   "outputs": [
    {
     "data": {
      "image/png": "[encoded data removed]",
      "text/plain": [
       "<Figure size 864x864 with 2 Axes>"
      ]
     },
     "metadata": {
      "needs_background": "light"
     },
     "output_type": "display_data"
    }
   ],
   "source": [
    "plt.figure(figsize=(12,12))\n",
    "sns.heatmap(combined.iloc[:, 2:].corr(), annot=True, square=True, cmap='BuPu')\n",
    "plt.show()"
   ]
  },
  {
   "cell_type": "markdown",
   "metadata": {},
   "source": [
    "We can see that those with more education have a greater income by charting their education level against their income.\n",
    "\n",
    "The distributions are relatively similar, but we can observe that graduates have more outliers, implying that the wealthy are likely to be well educated."
   ]
  },
  {
   "cell_type": "markdown",
   "metadata": {},
   "source": [
    "We now plot what columns are mostly required for our data\n",
    "\n",
    "From the plot we conclude that ApplicantIncome is more important for determining the Loan_Status"
   ]
  },
  {
   "cell_type": "code",
   "execution_count": 44,
   "metadata": {},
   "outputs": [
    {
     "data": {
      "text/plain": [
       "<AxesSubplot:xlabel='Education', ylabel='ApplicantIncome'>"
      ]
     },
     "execution_count": 44,
     "metadata": {},
     "output_type": "execute_result"
    },
    {
     "data": {
      "image/png": "[encoded data removed]",
      "text/plain": [
       "<Figure size 432x288 with 1 Axes>"
      ]
     },
     "metadata": {
      "needs_background": "light"
     },
     "output_type": "display_data"
    }
   ],
   "source": [
    "sns.boxplot(x='Education',y='ApplicantIncome',data=trainingDataset)"
   ]
  },
  {
   "cell_type": "code",
   "execution_count": 45,
   "metadata": {
    "_uuid": "7bde7044ebe78fcd0801d193316e7324cc8ec62d"
   },
   "outputs": [
    {
     "data": {
      "image/png": "[encoded data removed]",
      "text/plain": [
       "<Figure size 1440x1440 with 5 Axes>"
      ]
     },
     "metadata": {
      "needs_background": "light"
     },
     "output_type": "display_data"
    }
   ],
   "source": [
    "plt.figure(figsize=(20,20))\n",
    "temp = trainingDataset.iloc[:,2:].select_dtypes(include=['int64','float64'])\n",
    "requiredColumns = list(temp.columns.values)\n",
    "counter = 1\n",
    "for col in requiredColumns:\n",
    "    plt.subplot(3, 3, counter)\n",
    "    trainingDataset[col].hist(color = 'green')\n",
    "    plt.title(col)\n",
    "    counter = counter + 1\n",
    "   "
   ]
  },
  {
   "cell_type": "markdown",
   "metadata": {
    "_cell_guid": "5694a76b-962c-43a8-b0dd-80050a35a7ab",
    "_uuid": "3d72246cd53bc208979c7f30ae9540e7ba6a2278"
   },
   "source": [
    "### Let's understand the distributions of ApplicantIncome and LoanAmount. Also Lets understand the categorical variables in more detail"
   ]
  },
  {
   "cell_type": "markdown",
   "metadata": {},
   "source": [
    "Another intriguing variable is credit history, to see how it influences Loan Status we may convert it to binary and calculate its mean for each credit history value. A high loan success rate is indicated by a value close to 1.\n",
    "\n",
    "We see that people with credit history are having high chance(not 100%) of loan approval compared to people who are having no credit history"
   ]
  },
  {
   "cell_type": "code",
   "execution_count": 46,
   "metadata": {
    "_cell_guid": "5e126255-e9aa-4948-9afe-b11228327853",
    "_uuid": "085da8fa8c2c4d405c6c9d7f331cc73ed102a337",
    "scrolled": true
   },
   "outputs": [
    {
     "data": {
      "text/plain": [
       "<AxesSubplot:xlabel='Credit_History'>"
      ]
     },
     "execution_count": 46,
     "metadata": {},
     "output_type": "execute_result"
    },
    {
     "data": {
      "text/plain": [
       "<Figure size 720x720 with 0 Axes>"
      ]
     },
     "metadata": {},
     "output_type": "display_data"
    },
    {
     "data": {
      "image/png": "[encoded data removed]",
      "text/plain": [
       "<Figure size 432x288 with 1 Axes>"
      ]
     },
     "metadata": {
      "needs_background": "light"
     },
     "output_type": "display_data"
    }
   ],
   "source": [
    "plt.figure(figsize=(10,10))\n",
    "temp3 = pd.crosstab(trainingDataset['Credit_History'], trainingDataset['Loan_Status'])\n",
    "temp3.plot(kind='bar', stacked=True, color=['green','red'], grid=False)"
   ]
  },
  {
   "cell_type": "code",
   "execution_count": 47,
   "metadata": {
    "_cell_guid": "2cdcf525-c060-4dc8-819b-d2bcc30cb8b7",
    "_uuid": "fad17fe376eae2944bc9f911a3d32d5ae97722c1"
   },
   "outputs": [
    {
     "name": "stdout",
     "output_type": "stream",
     "text": [
      "CONVERTED THE CATEGORICAL VARIABLES INTO NUMERICALS\n"
     ]
    }
   ],
   "source": [
    "nrow_train = trainingDataset.shape[0]\n",
    "X_train = combined[:nrow_train]\n",
    "X_test = combined[nrow_train:]\n",
    "from sklearn.preprocessing import LabelEncoder\n",
    "var_mod = ['Gender','Married','Education','Self_Employed','Property_Area','Loan_Status','Dependents']\n",
    "le = LabelEncoder()\n",
    "for i in var_mod:\n",
    "    X_train[i] = le.fit_transform(X_train[i])\n",
    "    X_test[i] = le.fit_transform(X_test[i])\n",
    "print (\"CONVERTED THE CATEGORICAL VARIABLES INTO NUMERICALS\")"
   ]
  },
  {
   "cell_type": "code",
   "execution_count": 48,
   "metadata": {
    "_uuid": "ad003413c355825e3e4a218c5dcb3a5d4f9e8314"
   },
   "outputs": [
    {
     "data": {
      "text/plain": [
       "<AxesSubplot:>"
      ]
     },
     "execution_count": 48,
     "metadata": {},
     "output_type": "execute_result"
    },
    {
     "data": {
      "image/png": "[encoded data removed]",
      "text/plain": [
       "<Figure size 720x720 with 1 Axes>"
      ]
     },
     "metadata": {
      "needs_background": "light"
     },
     "output_type": "display_data"
    }
   ],
   "source": [
    "temp = trainingDataset.iloc[:,2:].select_dtypes(include=['int64','float64'])\n",
    "requiredColumns = list(temp.columns.values)\n",
    "plt.figure(figsize=(10,10))\n",
    "sns.boxplot(data=X_train[requiredColumns], palette=\"Set2\")"
   ]
  },
  {
   "cell_type": "code",
   "execution_count": 49,
   "metadata": {
    "_uuid": "fdf993715d3af0b7f7cdda25e0ee31d7e4399186",
    "scrolled": true
   },
   "outputs": [
    {
     "data": {
      "image/png": "[encoded data removed]",
      "text/plain": [
       "<Figure size 788.625x720 with 30 Axes>"
      ]
     },
     "metadata": {
      "needs_background": "light"
     },
     "output_type": "display_data"
    }
   ],
   "source": [
    "sns.pairplot(trainingDataset[trainingDataset.columns.values], hue='Loan_Status', diag_kind='kde', height=2);"
   ]
  },
  {
   "cell_type": "markdown",
   "metadata": {},
   "source": [
    "The box plot show the outliers in the data. \n",
    "As you can see columns name \"APPLICANT INCOME\" and \"CO APPLICANT INCOME\" have outliers"
   ]
  },
  {
   "cell_type": "code",
   "execution_count": 50,
   "metadata": {},
   "outputs": [
    {
     "name": "stdout",
     "output_type": "stream",
     "text": [
      "Accuracy : 73.171%\n",
      "\n",
      " Classification report for classifier LogisticRegression(solver='sag'):\n",
      "              precision    recall  f1-score   support\n",
      "\n",
      "           0       0.00      0.00      0.00        33\n",
      "           1       0.73      1.00      0.85        90\n",
      "\n",
      "    accuracy                           0.73       123\n",
      "   macro avg       0.37      0.50      0.42       123\n",
      "weighted avg       0.54      0.73      0.62       123\n",
      "\n",
      "\n",
      "Confusion matrix:\n",
      "[[ 0 33]\n",
      " [ 0 90]]\n",
      "TOTAL NUMBER OF TESTING RECORD -  123\n",
      "NUMBER OF CORRECTLY PREDICTED OUTPUTS -  90\n",
      "\n",
      "\n",
      "TESTING RECORD -  [1.000e+00 0.000e+00 0.000e+00 1.000e+00 7.085e+03 0.000e+00 8.400e+01\n",
      " 3.600e+02 1.000e+00]\n",
      "ACTUAL OUTPUT -  1\n",
      "PREDICTED OUTPUT -  1\n",
      "_________________________________\n",
      "TESTING RECORD -  [2.000e+00 0.000e+00 0.000e+00 0.000e+00 6.133e+03 3.906e+03 3.240e+02\n",
      " 3.600e+02 1.000e+00]\n",
      "ACTUAL OUTPUT -  1\n",
      "PREDICTED OUTPUT -  1\n",
      "_________________________________\n",
      "TESTING RECORD -  [2.000e+00 2.000e+00 0.000e+00 0.000e+00 2.708e+03 1.167e+03 9.700e+01\n",
      " 3.600e+02 1.000e+00]\n",
      "ACTUAL OUTPUT -  1\n",
      "PREDICTED OUTPUT -  1\n",
      "_________________________________\n"
     ]
    }
   ],
   "source": [
    "from sklearn.linear_model import LogisticRegression\n",
    "from sklearn.model_selection import KFold, cross_val_score, train_test_split #For K-fold cross validation\n",
    "\n",
    "from sklearn import metrics\n",
    "X = X_train.iloc[:, 2:11].values\n",
    "y = X_train.iloc[:, 12].values\n",
    "#X = X.reshape(X.shape[0],1)\n",
    "X_tr,X_te,y_tr,y_te = train_test_split(X,y,test_size=0.20, random_state=0)\n",
    "\n",
    "LR_model = LogisticRegression(solver='sag')\n",
    "LR_model.fit(X_tr,y_tr)\n",
    "#Make predictions on training set:\n",
    "predictions = LR_model.predict(X_te)\n",
    "\n",
    "#Print accuracy\n",
    "accuracy = metrics.accuracy_score(predictions,y_te)\n",
    "print (\"Accuracy : %s\" % \"{0:.3%}\".format(accuracy))\n",
    "print(\"\\n Classification report for classifier %s:\\n%s\\n\"\n",
    "      % (LR_model, metrics.classification_report(y_te, predictions)))\n",
    "print(\"Confusion matrix:\\n%s\" % metrics.confusion_matrix(y_te, predictions))\n",
    "\n",
    "count = 0\n",
    "print (\"TOTAL NUMBER OF TESTING RECORD - \",X_te.shape[0])\n",
    "for x in range(len(X_te)):\n",
    "    if(y_te[x] == predictions[x]):\n",
    "        count = count + 1\n",
    "print (\"NUMBER OF CORRECTLY PREDICTED OUTPUTS - \",count)\n",
    "print(\"\\n\")\n",
    "for x in range(0,5):\n",
    "    if(y_te[x] == predictions[x]):\n",
    "        print (\"TESTING RECORD - \",X_te[x])\n",
    "        print (\"ACTUAL OUTPUT - \", y_te[x])\n",
    "        print (\"PREDICTED OUTPUT - \",predictions[x])\n",
    "        print (\"_________________________________\")"
   ]
  },
  {
   "cell_type": "code",
   "execution_count": 51,
   "metadata": {},
   "outputs": [
    {
     "name": "stdout",
     "output_type": "stream",
     "text": [
      "['Married', 'Dependents', 'Education', 'Self_Employed', 'ApplicantIncome', 'CoapplicantIncome', 'LoanAmount', 'Loan_Amount_Term', 'Credit_History']\n",
      "(array([1.000e+00, 0.000e+00, 0.000e+00, 1.000e+00, 7.085e+03, 0.000e+00,\n",
      "       8.400e+01, 3.600e+02, 1.000e+00]), 1, 1)\n"
     ]
    }
   ],
   "source": [
    "temp = trainingDataset.iloc[:,2:11]\n",
    "requiredColumns = list(temp.columns.values)\n",
    "print (requiredColumns)\n",
    "FinalData = list(zip(X_te, y_te, predictions))\n",
    "print (FinalData[0])\n",
    "my_submission = pd.DataFrame( X_te, columns=[requiredColumns])\n",
    "my_submission['Actual_Loan_Status'] = y_te\n",
    "my_submission['Predicted_Loan_Status'] = predictions\n",
    "my_submission.head()\n",
    "my_submission.to_csv('LoanPredictionSubmissions.csv', index=False)\n"
   ]
  },
  {
   "cell_type": "code",
   "execution_count": 52,
   "metadata": {},
   "outputs": [
    {
     "name": "stdout",
     "output_type": "stream",
     "text": [
      "Accuracy : 79.221%\n",
      "\n",
      " Classification report for classifier LogisticRegression(solver='sag'):\n",
      "              precision    recall  f1-score   support\n",
      "\n",
      "           0       0.67      0.51      0.58        43\n",
      "           1       0.83      0.90      0.86       111\n",
      "\n",
      "    accuracy                           0.79       154\n",
      "   macro avg       0.75      0.71      0.72       154\n",
      "weighted avg       0.78      0.79      0.78       154\n",
      "\n",
      "\n",
      "Confusion matrix:\n",
      "[[ 22  21]\n",
      " [ 11 100]]\n",
      "TOTAL NUMBER OF TESTING RECORD -  154\n",
      "NUMBER OF CORRECTLY PREDICTED OUTPUTS -  122\n",
      "\n",
      "\n",
      "TESTING RECORD -  [1.]\n",
      "ACTUAL OUTPUT -  1\n",
      "PREDICTED OUTPUT -  1\n",
      "_________________________________\n",
      "TESTING RECORD -  [1.]\n",
      "ACTUAL OUTPUT -  1\n",
      "PREDICTED OUTPUT -  1\n",
      "_________________________________\n",
      "TESTING RECORD -  [1.]\n",
      "ACTUAL OUTPUT -  1\n",
      "PREDICTED OUTPUT -  1\n",
      "_________________________________\n"
     ]
    }
   ],
   "source": [
    "#Import models from scikit learn module:\n",
    "from sklearn.linear_model import LogisticRegression\n",
    "from sklearn.model_selection import KFold, cross_val_score, train_test_split #For K-fold cross validation\n",
    "\n",
    "from sklearn import metrics\n",
    "\n",
    "model = LogisticRegression(solver='sag')\n",
    "X = X_train.iloc[:, 10:11].values\n",
    "y = X_train.iloc[:, 12].values\n",
    "#X = X.reshape(X.shape[0],1)\n",
    "X_tr,X_te,y_tr,y_te = train_test_split(X,y,test_size=0.25,random_state=0)\n",
    "\n",
    "model.fit(X_tr,y_tr)\n",
    "#Make predictions on training set:\n",
    "predictions = model.predict(X_te)\n",
    "\n",
    "#Print accuracy\n",
    "accuracy = metrics.accuracy_score(predictions,y_te)\n",
    "print (\"Accuracy : %s\" % \"{0:.3%}\".format(accuracy))\n",
    "print(\"\\n Classification report for classifier %s:\\n%s\\n\"\n",
    "      % (model, metrics.classification_report(y_te, predictions)))\n",
    "print(\"Confusion matrix:\\n%s\" % metrics.confusion_matrix(y_te, predictions))\n",
    "\n",
    "count = 0\n",
    "print (\"TOTAL NUMBER OF TESTING RECORD - \",X_te.shape[0])\n",
    "for x in range(len(X_te)):\n",
    "    if(y_te[x] == predictions[x]):\n",
    "        count = count + 1\n",
    "print (\"NUMBER OF CORRECTLY PREDICTED OUTPUTS - \",count)\n",
    "print(\"\\n\")\n",
    "for x in range(0,5):\n",
    "    if(y_te[x] == predictions[x]):\n",
    "        print (\"TESTING RECORD - \",X_te[x])\n",
    "        print (\"ACTUAL OUTPUT - \", y_te[x])\n",
    "        print (\"PREDICTED OUTPUT - \",predictions[x])\n",
    "        print (\"_________________________________\")"
   ]
  },
  {
   "cell_type": "code",
   "execution_count": 53,
   "metadata": {},
   "outputs": [
    {
     "name": "stdout",
     "output_type": "stream",
     "text": [
      "FOLLOWING IS THE COUNTPLOT DISPLAYING THE PREDICTIONS - \n"
     ]
    },
    {
     "data": {
      "image/png": "[encoded data removed]",
      "text/plain": [
       "<Figure size 864x432 with 1 Axes>"
      ]
     },
     "metadata": {},
     "output_type": "display_data"
    }
   ],
   "source": [
    "sns.set(style=\"darkgrid\")\n",
    "plt.figure(figsize=(12,6))\n",
    "ax = sns.countplot(x=predictions)\n",
    "ax.set_xticklabels([\"Loan Not Approved\",\"Loan Approved\"])\n",
    "print (\"FOLLOWING IS THE COUNTPLOT DISPLAYING THE PREDICTIONS - \")"
   ]
  },
  {
   "cell_type": "code",
   "execution_count": 54,
   "metadata": {},
   "outputs": [
    {
     "name": "stdout",
     "output_type": "stream",
     "text": [
      "Accuracy : 79.221%\n",
      "\n",
      " Classification report for classifier LogisticRegression(solver='sag'):\n",
      "              precision    recall  f1-score   support\n",
      "\n",
      "           0       0.67      0.51      0.58        43\n",
      "           1       0.83      0.90      0.86       111\n",
      "\n",
      "    accuracy                           0.79       154\n",
      "   macro avg       0.75      0.71      0.72       154\n",
      "weighted avg       0.78      0.79      0.78       154\n",
      "\n",
      "\n",
      "Confusion matrix:\n",
      "[[ 22  21]\n",
      " [ 11 100]]\n",
      "TOTAL NUMBER OF TESTING RECORD -  154\n",
      "NUMBER OF CORRECTLY PREDICTED OUTPUTS -  122\n",
      "\n",
      "\n",
      "TESTING RECORD -  [1.]\n",
      "ACTUAL OUTPUT -  1\n",
      "PREDICTED OUTPUT -  1\n",
      "_________________________________\n",
      "TESTING RECORD -  [1.]\n",
      "ACTUAL OUTPUT -  1\n",
      "PREDICTED OUTPUT -  1\n",
      "_________________________________\n",
      "TESTING RECORD -  [1.]\n",
      "ACTUAL OUTPUT -  1\n",
      "PREDICTED OUTPUT -  1\n",
      "_________________________________\n"
     ]
    }
   ],
   "source": [
    "from sklearn.ensemble import RandomForestClassifier\n",
    "rf_model = RandomForestClassifier()\n",
    "rf_model.fit(X_tr,y_tr)\n",
    "predictions = rf_model.predict(X_te)\n",
    "\n",
    "#Print accuracy\n",
    "accuracy = metrics.accuracy_score(predictions,y_te)\n",
    "print (\"Accuracy : %s\" % \"{0:.3%}\".format(accuracy))\n",
    "print(\"\\n Classification report for classifier %s:\\n%s\\n\"\n",
    "      % (model, metrics.classification_report(y_te, predictions)))\n",
    "print(\"Confusion matrix:\\n%s\" % metrics.confusion_matrix(y_te, predictions))\n",
    "\n",
    "count = 0\n",
    "print (\"TOTAL NUMBER OF TESTING RECORD - \",X_te.shape[0])\n",
    "for x in range(len(X_te)):\n",
    "    if(y_te[x] == predictions[x]):\n",
    "        count = count + 1\n",
    "print (\"NUMBER OF CORRECTLY PREDICTED OUTPUTS - \",count)\n",
    "print(\"\\n\")\n",
    "for x in range(0,5):\n",
    "    if(y_te[x] == predictions[x]):\n",
    "        print (\"TESTING RECORD - \",X_te[x])\n",
    "        print (\"ACTUAL OUTPUT - \", y_te[x])\n",
    "        print (\"PREDICTED OUTPUT - \",predictions[x])\n",
    "        print (\"_________________________________\")"
   ]
  },
  {
   "cell_type": "code",
   "execution_count": 55,
   "metadata": {},
   "outputs": [
    {
     "name": "stdout",
     "output_type": "stream",
     "text": [
      "FOLLOWING IS THE COUNTPLOT DISPLAYING THE PREDICTIONS - \n"
     ]
    },
    {
     "data": {
      "image/png": "[encoded data removed]",
      "text/plain": [
       "<Figure size 864x432 with 1 Axes>"
      ]
     },
     "metadata": {},
     "output_type": "display_data"
    }
   ],
   "source": [
    "sns.set(style=\"darkgrid\")\n",
    "plt.figure(figsize=(12,6))\n",
    "ax = sns.countplot(x=predictions)\n",
    "ax.set_xticklabels([\"Loan Not Approved\",\"Loan Approved\"])\n",
    "print (\"FOLLOWING IS THE COUNTPLOT DISPLAYING THE PREDICTIONS - \")"
   ]
  },
  {
   "cell_type": "code",
   "execution_count": 56,
   "metadata": {},
   "outputs": [
    {
     "name": "stdout",
     "output_type": "stream",
     "text": [
      "Accuracy : 79.221%\n",
      "\n",
      " Classification report for classifier DecisionTreeClassifier():\n",
      "              precision    recall  f1-score   support\n",
      "\n",
      "           0       0.67      0.51      0.58        43\n",
      "           1       0.83      0.90      0.86       111\n",
      "\n",
      "    accuracy                           0.79       154\n",
      "   macro avg       0.75      0.71      0.72       154\n",
      "weighted avg       0.78      0.79      0.78       154\n",
      "\n",
      "\n",
      "Confusion matrix:\n",
      "[[ 22  21]\n",
      " [ 11 100]]\n",
      "TOTAL NUMBER OF TESTING RECORD -  154\n",
      "NUMBER OF CORRECTLY PREDICTED OUTPUTS -  122\n",
      "\n",
      "\n",
      "TESTING RECORD -  [1.]\n",
      "ACTUAL OUTPUT -  1\n",
      "PREDICTED OUTPUT -  1\n",
      "_________________________________\n",
      "TESTING RECORD -  [1.]\n",
      "ACTUAL OUTPUT -  1\n",
      "PREDICTED OUTPUT -  1\n",
      "_________________________________\n",
      "TESTING RECORD -  [1.]\n",
      "ACTUAL OUTPUT -  1\n",
      "PREDICTED OUTPUT -  1\n",
      "_________________________________\n"
     ]
    }
   ],
   "source": [
    "from sklearn import tree\n",
    "clf = tree.DecisionTreeClassifier()\n",
    "clf.fit(X_tr,y_tr)\n",
    "predictions = clf.predict(X_te)\n",
    "\n",
    "#Print accuracy\n",
    "accuracy = metrics.accuracy_score(predictions,y_te)\n",
    "print (\"Accuracy : %s\" % \"{0:.3%}\".format(accuracy))\n",
    "print(\"\\n Classification report for classifier %s:\\n%s\\n\"\n",
    "      % (clf, metrics.classification_report(y_te, predictions)))\n",
    "print(\"Confusion matrix:\\n%s\" % metrics.confusion_matrix(y_te, predictions))\n",
    "\n",
    "count = 0\n",
    "print (\"TOTAL NUMBER OF TESTING RECORD - \",X_te.shape[0])\n",
    "for x in range(len(X_te)):\n",
    "    if(y_te[x] == predictions[x]):\n",
    "        count = count + 1\n",
    "print (\"NUMBER OF CORRECTLY PREDICTED OUTPUTS - \",count)\n",
    "print(\"\\n\")\n",
    "for x in range(0,5):\n",
    "    if(y_te[x] == predictions[x]):\n",
    "        print (\"TESTING RECORD - \",X_te[x])\n",
    "        print (\"ACTUAL OUTPUT - \", y_te[x])\n",
    "        print (\"PREDICTED OUTPUT - \",predictions[x])\n",
    "        print (\"_________________________________\")"
   ]
  },
  {
   "cell_type": "code",
   "execution_count": 57,
   "metadata": {},
   "outputs": [
    {
     "name": "stdout",
     "output_type": "stream",
     "text": [
      "Accuracy : 79.221%\n",
      "\n",
      " Classification report for classifier KNeighborsClassifier(n_neighbors=3):\n",
      "              precision    recall  f1-score   support\n",
      "\n",
      "           0       0.67      0.51      0.58        43\n",
      "           1       0.83      0.90      0.86       111\n",
      "\n",
      "    accuracy                           0.79       154\n",
      "   macro avg       0.75      0.71      0.72       154\n",
      "weighted avg       0.78      0.79      0.78       154\n",
      "\n",
      "\n",
      "Confusion matrix:\n",
      "[[ 22  21]\n",
      " [ 11 100]]\n",
      "TOTAL NUMBER OF TESTING RECORD -  154\n",
      "NUMBER OF CORRECTLY PREDICTED OUTPUTS -  122\n",
      "\n",
      "\n",
      "TESTING RECORD -  [1.]\n",
      "ACTUAL OUTPUT -  1\n",
      "PREDICTED OUTPUT -  1\n",
      "_________________________________\n",
      "TESTING RECORD -  [1.]\n",
      "ACTUAL OUTPUT -  1\n",
      "PREDICTED OUTPUT -  1\n",
      "_________________________________\n",
      "TESTING RECORD -  [1.]\n",
      "ACTUAL OUTPUT -  1\n",
      "PREDICTED OUTPUT -  1\n",
      "_________________________________\n"
     ]
    }
   ],
   "source": [
    "from sklearn.neighbors import KNeighborsClassifier\n",
    "knn = KNeighborsClassifier(n_neighbors=3)\n",
    "knn.fit(X_tr,y_tr)\n",
    "predictions = knn.predict(X_te)\n",
    "\n",
    "#Print accuracy\n",
    "accuracy = metrics.accuracy_score(predictions,y_te)\n",
    "print (\"Accuracy : %s\" % \"{0:.3%}\".format(accuracy))\n",
    "print(\"\\n Classification report for classifier %s:\\n%s\\n\"\n",
    "      % (knn, metrics.classification_report(y_te, predictions)))\n",
    "print(\"Confusion matrix:\\n%s\" % metrics.confusion_matrix(y_te, predictions))\n",
    "\n",
    "count = 0\n",
    "print (\"TOTAL NUMBER OF TESTING RECORD - \",X_te.shape[0])\n",
    "for x in range(len(X_te)):\n",
    "    if(y_te[x] == predictions[x]):\n",
    "        count = count + 1\n",
    "print (\"NUMBER OF CORRECTLY PREDICTED OUTPUTS - \",count)\n",
    "print(\"\\n\")\n",
    "for x in range(0,5):\n",
    "    if(y_te[x] == predictions[x]):\n",
    "        print (\"TESTING RECORD - \",X_te[x])\n",
    "        print (\"ACTUAL OUTPUT - \", y_te[x])\n",
    "        print (\"PREDICTED OUTPUT - \",predictions[x])\n",
    "        print (\"_________________________________\")"
   ]
  },
  {
   "cell_type": "code",
   "execution_count": 58,
   "metadata": {},
   "outputs": [
    {
     "data": {
      "text/html": [
       "<div>\n",
       "<style scoped>\n",
       "    .dataframe tbody tr th:only-of-type {\n",
       "        vertical-align: middle;\n",
       "    }\n",
       "\n",
       "    .dataframe tbody tr th {\n",
       "        vertical-align: top;\n",
       "    }\n",
       "\n",
       "    .dataframe thead th {\n",
       "        text-align: right;\n",
       "    }\n",
       "</style>\n",
       "<table border=\"1\" class=\"dataframe\">\n",
       "  <thead>\n",
       "    <tr style=\"text-align: right;\">\n",
       "      <th></th>\n",
       "      <th>Loan_ID</th>\n",
       "      <th>Gender</th>\n",
       "      <th>Married</th>\n",
       "      <th>Dependents</th>\n",
       "      <th>Education</th>\n",
       "      <th>Self_Employed</th>\n",
       "      <th>ApplicantIncome</th>\n",
       "      <th>CoapplicantIncome</th>\n",
       "      <th>LoanAmount</th>\n",
       "      <th>Loan_Amount_Term</th>\n",
       "      <th>Credit_History</th>\n",
       "      <th>Property_Area</th>\n",
       "      <th>Loan_Status</th>\n",
       "    </tr>\n",
       "  </thead>\n",
       "  <tbody>\n",
       "    <tr>\n",
       "      <th>0</th>\n",
       "      <td>LP001002</td>\n",
       "      <td>1</td>\n",
       "      <td>0</td>\n",
       "      <td>0</td>\n",
       "      <td>0</td>\n",
       "      <td>0</td>\n",
       "      <td>5849</td>\n",
       "      <td>0.0</td>\n",
       "      <td>146.412162</td>\n",
       "      <td>360.0</td>\n",
       "      <td>1.0</td>\n",
       "      <td>2</td>\n",
       "      <td>1</td>\n",
       "    </tr>\n",
       "    <tr>\n",
       "      <th>1</th>\n",
       "      <td>LP001003</td>\n",
       "      <td>1</td>\n",
       "      <td>1</td>\n",
       "      <td>1</td>\n",
       "      <td>0</td>\n",
       "      <td>0</td>\n",
       "      <td>4583</td>\n",
       "      <td>1508.0</td>\n",
       "      <td>128.000000</td>\n",
       "      <td>360.0</td>\n",
       "      <td>1.0</td>\n",
       "      <td>0</td>\n",
       "      <td>0</td>\n",
       "    </tr>\n",
       "    <tr>\n",
       "      <th>2</th>\n",
       "      <td>LP001005</td>\n",
       "      <td>1</td>\n",
       "      <td>1</td>\n",
       "      <td>0</td>\n",
       "      <td>0</td>\n",
       "      <td>1</td>\n",
       "      <td>3000</td>\n",
       "      <td>0.0</td>\n",
       "      <td>66.000000</td>\n",
       "      <td>360.0</td>\n",
       "      <td>1.0</td>\n",
       "      <td>2</td>\n",
       "      <td>1</td>\n",
       "    </tr>\n",
       "    <tr>\n",
       "      <th>3</th>\n",
       "      <td>LP001006</td>\n",
       "      <td>1</td>\n",
       "      <td>1</td>\n",
       "      <td>0</td>\n",
       "      <td>1</td>\n",
       "      <td>0</td>\n",
       "      <td>2583</td>\n",
       "      <td>2358.0</td>\n",
       "      <td>120.000000</td>\n",
       "      <td>360.0</td>\n",
       "      <td>1.0</td>\n",
       "      <td>2</td>\n",
       "      <td>1</td>\n",
       "    </tr>\n",
       "    <tr>\n",
       "      <th>4</th>\n",
       "      <td>LP001008</td>\n",
       "      <td>1</td>\n",
       "      <td>0</td>\n",
       "      <td>0</td>\n",
       "      <td>0</td>\n",
       "      <td>0</td>\n",
       "      <td>6000</td>\n",
       "      <td>0.0</td>\n",
       "      <td>141.000000</td>\n",
       "      <td>360.0</td>\n",
       "      <td>1.0</td>\n",
       "      <td>2</td>\n",
       "      <td>1</td>\n",
       "    </tr>\n",
       "  </tbody>\n",
       "</table>\n",
       "</div>"
      ],
      "text/plain": [
       "    Loan_ID  Gender  Married  Dependents  Education  Self_Employed  \\\n",
       "0  LP001002       1        0           0          0              0   \n",
       "1  LP001003       1        1           1          0              0   \n",
       "2  LP001005       1        1           0          0              1   \n",
       "3  LP001006       1        1           0          1              0   \n",
       "4  LP001008       1        0           0          0              0   \n",
       "\n",
       "   ApplicantIncome  CoapplicantIncome  LoanAmount  Loan_Amount_Term  \\\n",
       "0             5849                0.0  146.412162             360.0   \n",
       "1             4583             1508.0  128.000000             360.0   \n",
       "2             3000                0.0   66.000000             360.0   \n",
       "3             2583             2358.0  120.000000             360.0   \n",
       "4             6000                0.0  141.000000             360.0   \n",
       "\n",
       "   Credit_History  Property_Area  Loan_Status  \n",
       "0             1.0              2            1  \n",
       "1             1.0              0            0  \n",
       "2             1.0              2            1  \n",
       "3             1.0              2            1  \n",
       "4             1.0              2            1  "
      ]
     },
     "execution_count": 58,
     "metadata": {},
     "output_type": "execute_result"
    }
   ],
   "source": [
    "from sklearn.preprocessing import LabelEncoder\n",
    "var_mod = ['Gender','Married','Dependents','Education','Self_Employed','Property_Area','Loan_Status']\n",
    "le = LabelEncoder()\n",
    "for i in var_mod:\n",
    "    trainingSet[i] = le.fit_transform(trainingSet[i])\n",
    "trainingSet.head() "
   ]
  },
  {
   "cell_type": "code",
   "execution_count": 59,
   "metadata": {},
   "outputs": [],
   "source": [
    "X = trainingSet[['Credit_History','Gender','Married','Education']]\n",
    "y = trainingSet['Loan_Status']"
   ]
  },
  {
   "cell_type": "code",
   "execution_count": 60,
   "metadata": {},
   "outputs": [],
   "source": [
    "from sklearn.tree import DecisionTreeClassifier\n",
    "model = DecisionTreeClassifier()\n",
    "model.fit(X,y)\n",
    "predictions = model.predict(X)"
   ]
  },
  {
   "cell_type": "code",
   "execution_count": 61,
   "metadata": {},
   "outputs": [
    {
     "name": "stdout",
     "output_type": "stream",
     "text": [
      "0.8094462540716613\n"
     ]
    }
   ],
   "source": [
    "from sklearn.metrics import accuracy_score\n",
    "print(accuracy_score(predictions,y))"
   ]
  },
  {
   "cell_type": "code",
   "execution_count": 62,
   "metadata": {},
   "outputs": [],
   "source": [
    "from sklearn.linear_model import LinearRegression\n",
    "model = LinearRegression()\n",
    "model.fit(X,y)\n",
    "predictions = model.predict(X)"
   ]
  },
  {
   "cell_type": "code",
   "execution_count": 63,
   "metadata": {},
   "outputs": [
    {
     "name": "stdout",
     "output_type": "stream",
     "text": [
      "[ 0.73782803  0.82841883  0.82841883  0.77602864  0.73782803  0.82841883\n",
      "  0.77602864  0.12223556  0.82841883  0.82841883  0.82841883  0.82841883\n",
      "  0.82841883  0.73782803  0.82841883  0.73782803  0.68543784  0.05412042\n",
      "  0.77602864  0.82841883  0.06984536  0.82841883  0.06984536  0.06984536\n",
      "  0.82841883  0.82841883  0.82841883  0.77602864  0.68543784  0.76030369\n",
      "  0.82841883  0.73782803  0.73782803  0.82841883  0.73782803  0.82841883\n",
      "  0.12223556  0.8508945   0.73782803  0.68543784  0.73782803  0.73782803\n",
      "  0.82841883  0.82841883  0.77602864  0.76030369  0.82841883  0.82841883\n",
      "  0.14471122  0.76030369  0.79850431  0.76030369  0.76030369  0.82841883\n",
      "  0.14471122  0.82841883  0.82841883  0.82841883  0.82841883  0.77602864\n",
      "  0.82841883  0.82841883  0.06984536  0.12223556  0.05412042  0.82841883\n",
      " -0.02074544  0.82841883  0.77602864  0.05412042  0.82841883  0.77602864\n",
      "  0.73782803  0.06984536  0.82841883  0.73782803  0.73782803  0.82841883\n",
      "  0.12223556  0.77602864  0.76030369  0.82841883  0.8508945   0.82841883\n",
      "  0.82841883  0.73782803  0.77602864  0.82841883  0.73782803  0.82841883\n",
      "  0.82841883  0.82841883  0.77602864  0.73782803  0.68543784  0.73782803\n",
      "  0.8508945   0.82841883  0.77602864  0.82841883  0.77602864  0.73782803\n",
      "  0.82841883  0.82841883  0.82841883  0.82841883  0.82841883  0.68543784\n",
      "  0.12223556  0.77602864  0.73782803  0.8508945   0.06984536  0.76030369\n",
      "  0.73782803  0.82841883  0.8508945   0.82841883  0.82841883  0.76030369\n",
      "  0.82841883  0.76030369  0.05412042  0.82841883  0.77602864  0.76030369\n",
      "  0.82841883  0.73782803  0.12223556  0.82841883  0.73782803  0.73782803\n",
      "  0.73782803  0.82841883  0.73782803  0.82841883  0.8508945   0.82841883\n",
      "  0.03164475  0.77602864  0.82841883  0.73782803  0.73782803  0.82841883\n",
      "  0.82841883  0.8508945   0.8508945   0.82841883  0.76030369  0.82841883\n",
      "  0.03164475  0.82841883  0.73782803  0.77602864  0.73782803  0.12223556\n",
      "  0.82841883  0.82841883  0.73782803  0.82841883  0.77602864  0.82841883\n",
      "  0.12223556  0.82841883  0.82841883  0.82841883  0.8508945   0.82841883\n",
      "  0.03164475  0.82841883  0.77602864  0.82841883  0.77602864  0.82841883\n",
      "  0.77602864  0.82841883  0.82841883  0.12223556  0.82841883 -0.02074544\n",
      "  0.12223556  0.73782803  0.82841883  0.82841883  0.8508945   0.82841883\n",
      "  0.12223556  0.82841883  0.82841883  0.82841883  0.68543784  0.73782803\n",
      "  0.77602864  0.73782803  0.73782803  0.82841883  0.73782803  0.7079135\n",
      "  0.8508945   0.73782803  0.77602864  0.03164475  0.77602864  0.77602864\n",
      "  0.77602864  0.7079135   0.76030369  0.68543784  0.73782803  0.73782803\n",
      "  0.76030369  0.12223556  0.82841883  0.77602864  0.82841883  0.77602864\n",
      "  0.82841883  0.82841883  0.12223556  0.8508945   0.12223556  0.82841883\n",
      "  0.73782803  0.82841883  0.82841883  0.82841883  0.77602864  0.82841883\n",
      "  0.82841883  0.73782803  0.82841883  0.82841883  0.68543784  0.76030369\n",
      "  0.82841883  0.82841883  0.82841883  0.76030369  0.76030369  0.82841883\n",
      "  0.82841883  0.77602864  0.73782803  0.82841883  0.77602864  0.73782803\n",
      "  0.82841883  0.77602864  0.82841883  0.82841883  0.06984536  0.76030369\n",
      "  0.68543784  0.77602864  0.03164475  0.76030369 -0.02074544  0.82841883\n",
      "  0.82841883  0.77602864  0.82841883  0.73782803  0.76030369  0.76030369\n",
      "  0.73782803  0.73782803  0.82841883  0.12223556  0.76030369  0.76030369\n",
      "  0.76030369  0.82841883  0.73782803  0.82841883  0.82841883  0.82841883\n",
      "  0.82841883  0.82841883  0.82841883  0.79850431 -0.02074544  0.82841883\n",
      "  0.82841883  0.76030369  0.82841883  0.73782803  0.76030369  0.82841883\n",
      "  0.76030369  0.73782803  0.82841883  0.12223556  0.82841883  0.05412042\n",
      "  0.82841883  0.82841883  0.82841883  0.8508945   0.76030369  0.82841883\n",
      "  0.06984536  0.77602864  0.76030369  0.82841883  0.73782803  0.68543784\n",
      "  0.76030369  0.05412042  0.73782803  0.77602864  0.76030369  0.68543784\n",
      "  0.76030369  0.82841883  0.82841883  0.77602864  0.82841883  0.82841883\n",
      "  0.76030369  0.82841883  0.82841883  0.82841883  0.77602864  0.76030369\n",
      "  0.82841883  0.12223556  0.03164475  0.82841883  0.8508945   0.76030369\n",
      "  0.73782803  0.73782803  0.73782803  0.82841883  0.82841883  0.82841883\n",
      "  0.82841883  0.82841883  0.00173022  0.76030369  0.77602864  0.76030369\n",
      "  0.77602864  0.77602864  0.82841883  0.82841883  0.06984536  0.77602864\n",
      "  0.82841883  0.82841883  0.82841883  0.73782803  0.82841883  0.14471122\n",
      "  0.8508945   0.76030369  0.82841883  0.82841883  0.06984536  0.82841883\n",
      "  0.76030369  0.82841883  0.82841883  0.82841883  0.73782803  0.68543784\n",
      "  0.73782803  0.03164475  0.82841883  0.82841883  0.76030369  0.82841883\n",
      "  0.82841883  0.03164475  0.76030369  0.82841883  0.82841883  0.82841883\n",
      "  0.73782803  0.82841883  0.82841883  0.73782803  0.76030369  0.73782803\n",
      "  0.82841883  0.73782803  0.68543784  0.06984536  0.82841883  0.82841883\n",
      "  0.73782803  0.82841883  0.82841883  0.77602864  0.82841883  0.82841883\n",
      "  0.05412042  0.82841883  0.68543784  0.05412042  0.06984536  0.68543784\n",
      "  0.73782803  0.7079135   0.76030369  0.76030369  0.77602864  0.7079135\n",
      "  0.12223556  0.12223556  0.7079135   0.82841883  0.06984536  0.77602864\n",
      "  0.09232103  0.76030369  0.76030369  0.82841883  0.82841883  0.82841883\n",
      "  0.82841883  0.00173022  0.82841883  0.12223556  0.82841883  0.82841883\n",
      "  0.7079135   0.82841883  0.82841883  0.68543784  0.76030369  0.03164475\n",
      "  0.73782803  0.82841883  0.73782803  0.8508945   0.73782803  0.82841883\n",
      "  0.03164475  0.79850431  0.73782803  0.82841883  0.68543784  0.73782803\n",
      "  0.82841883  0.82841883  0.77602864  0.82841883  0.12223556  0.68543784\n",
      "  0.06984536  0.77602864  0.12223556  0.12223556  0.73782803  0.82841883\n",
      "  0.82841883  0.82841883  0.73782803  0.82841883  0.82841883  0.82841883\n",
      "  0.82841883  0.7079135   0.03164475  0.73782803  0.06984536  0.82841883\n",
      "  0.79850431  0.82841883  0.82841883  0.06984536  0.82841883  0.76030369\n",
      "  0.73782803  0.82841883  0.82841883  0.12223556  0.82841883  0.82841883\n",
      "  0.7079135   0.77602864  0.82841883  0.82841883  0.82841883  0.77602864\n",
      "  0.03164475  0.82841883  0.82841883  0.73782803  0.68543784  0.77602864\n",
      "  0.68543784  0.7079135   0.12223556  0.8508945   0.77602864  0.82841883\n",
      "  0.82841883  0.03164475  0.76030369  0.76030369  0.82841883  0.77602864\n",
      "  0.77602864  0.82841883  0.82841883  0.73782803  0.82841883  0.76030369\n",
      "  0.68543784  0.82841883  0.82841883  0.82841883  0.73782803  0.82841883\n",
      "  0.8508945   0.06984536  0.73782803  0.7079135   0.77602864  0.73782803\n",
      "  0.82841883  0.82841883  0.73782803  0.82841883  0.82841883  0.06984536\n",
      "  0.68543784  0.68543784  0.82841883  0.82841883  0.03164475  0.73782803\n",
      "  0.7079135   0.68543784  0.82841883  0.73782803  0.77602864  0.82841883\n",
      "  0.8508945   0.05412042  0.76030369  0.77602864  0.79850431  0.82841883\n",
      "  0.68543784  0.73782803  0.05412042  0.82841883  0.12223556  0.77602864\n",
      "  0.82841883  0.06984536  0.12223556  0.82841883  0.76030369  0.82841883\n",
      "  0.82841883  0.8508945   0.77602864  0.8508945   0.82841883  0.68543784\n",
      "  0.12223556  0.77602864  0.73782803  0.12223556  0.76030369  0.12223556\n",
      "  0.82841883  0.12223556  0.82841883  0.77602864  0.82841883  0.82841883\n",
      "  0.12223556  0.73782803  0.82841883  0.73782803  0.82841883  0.73782803\n",
      "  0.8508945   0.82841883  0.12223556  0.82841883  0.82841883  0.7079135\n",
      "  0.73782803  0.12223556  0.82841883  0.82841883  0.73782803  0.82841883\n",
      "  0.82841883  0.68543784  0.77602864  0.03164475  0.82841883  0.82841883\n",
      "  0.76030369  0.77602864  0.82841883  0.73782803  0.8508945   0.77602864\n",
      "  0.82841883  0.77602864  0.82841883  0.76030369  0.82841883  0.82841883\n",
      "  0.82841883  0.05412042]\n"
     ]
    }
   ],
   "source": [
    "pred = model.predict(X)\n",
    "print(pred)"
   ]
  },
  {
   "cell_type": "code",
   "execution_count": 64,
   "metadata": {},
   "outputs": [
    {
     "name": "stdout",
     "output_type": "stream",
     "text": [
      "0.29375743869224613\n"
     ]
    }
   ],
   "source": [
    "from sklearn.model_selection import train_test_split\n",
    "\n",
    "X_train, X_test, y_train, y_test = train_test_split(X, y, test_size = 0.25)\n",
    "\n",
    "from sklearn.linear_model import LinearRegression\n",
    "\n",
    "regr = LinearRegression()\n",
    "regr.fit(X_train, y_train)\n",
    "print(regr.score(X_test, y_test))"
   ]
  },
  {
   "cell_type": "code",
   "execution_count": null,
   "metadata": {},
   "outputs": [],
   "source": []
  }
 ],
 "metadata": {
  "kernelspec": {
   "display_name": "Python 3",
   "language": "python",
   "name": "python3"
  },
  "language_info": {
   "codemirror_mode": {
    "name": "ipython",
    "version": 3
   },
   "file_extension": ".py",
   "mimetype": "text/x-python",
   "name": "python",
   "nbconvert_exporter": "python",
   "pygments_lexer": "ipython3",
   "version": "3.8.8"
  }
 },
 "nbformat": 4,
 "nbformat_minor": 1
}
